{
  "nbformat": 4,
  "nbformat_minor": 0,
  "metadata": {
    "colab": {
      "name": "S&P100_Companies_CaseStudy.ipynb",
      "provenance": [],
      "collapsed_sections": []
    },
    "kernelspec": {
      "name": "python3",
      "display_name": "Python 3"
    }
  },
  "cells": [
    {
      "cell_type": "markdown",
      "metadata": {
        "id": "wEh86RdrE_su"
      },
      "source": [
        "# S&P 100 Companies - Case Study"
      ]
    },
    {
      "cell_type": "markdown",
      "metadata": {
        "id": "fT9KwVyELuTh"
      },
      "source": [
        "## Work By - RAVJOT SINGH\n",
        "\n",
        "E-Mail - ravjot313@gmail.com\n",
        "\n",
        "Website - https://ravjot03.github.io/\n",
        "\n",
        "LinkedIn - https://www.linkedin.com/in/ravjot03/\n",
        "\n",
        "GitHub - https://github.com/Ravjot03\n",
        "\n",
        "Medium - https://medium.com/@ravjot03\n"
      ]
    },
    {
      "cell_type": "markdown",
      "metadata": {
        "id": "z5r8P0Z4BPOq"
      },
      "source": [
        "## Importing the necessary libraries"
      ]
    },
    {
      "cell_type": "code",
      "metadata": {
        "id": "oWriE92-13rv"
      },
      "source": [
        "import pandas as pd\n",
        "import numpy as np\n",
        "import matplotlib.pyplot as plt\n",
        "import seaborn as sns"
      ],
      "execution_count": null,
      "outputs": []
    },
    {
      "cell_type": "markdown",
      "metadata": {
        "id": "wd7LPEx0MT_r"
      },
      "source": [
        "## S&P 100 Companies\n",
        "The S&P 100 is a stock market index made up of one hundred major companies in the United States that span multiple industries."
      ]
    },
    {
      "cell_type": "markdown",
      "metadata": {
        "id": "7znHSFZ5BiVE"
      },
      "source": [
        "### Loading the dataset"
      ]
    },
    {
      "cell_type": "code",
      "metadata": {
        "id": "29XLuvKa2Gzu"
      },
      "source": [
        "path = '/content/sector.txt'"
      ],
      "execution_count": null,
      "outputs": []
    },
    {
      "cell_type": "code",
      "metadata": {
        "id": "0lqXFb7e2Ixj"
      },
      "source": [
        "df = pd.read_csv(path)"
      ],
      "execution_count": null,
      "outputs": []
    },
    {
      "cell_type": "markdown",
      "metadata": {
        "id": "c77VEtBRBlY6"
      },
      "source": [
        "### Exploratory Data Analysis"
      ]
    },
    {
      "cell_type": "markdown",
      "metadata": {
        "id": "KNJZjCHcMlfU"
      },
      "source": [
        "#### Descriptive Analysis"
      ]
    },
    {
      "cell_type": "code",
      "metadata": {
        "colab": {
          "base_uri": "https://localhost:8080/"
        },
        "id": "yG2d0gJZ2fAz",
        "outputId": "3c7645de-cbec-4470-eaff-6d157618a0b5"
      },
      "source": [
        "df.shape"
      ],
      "execution_count": null,
      "outputs": [
        {
          "output_type": "execute_result",
          "data": {
            "text/plain": [
              "(102, 4)"
            ]
          },
          "metadata": {
            "tags": []
          },
          "execution_count": 64
        }
      ]
    },
    {
      "cell_type": "code",
      "metadata": {
        "colab": {
          "base_uri": "https://localhost:8080/",
          "height": 202
        },
        "id": "xf_KlOP72RRO",
        "outputId": "d3fb19b7-eacf-447d-8e6e-c2d4fbeb90d2"
      },
      "source": [
        "df.head()"
      ],
      "execution_count": null,
      "outputs": [
        {
          "output_type": "execute_result",
          "data": {
            "text/html": [
              "<div>\n",
              "<style scoped>\n",
              "    .dataframe tbody tr th:only-of-type {\n",
              "        vertical-align: middle;\n",
              "    }\n",
              "\n",
              "    .dataframe tbody tr th {\n",
              "        vertical-align: top;\n",
              "    }\n",
              "\n",
              "    .dataframe thead th {\n",
              "        text-align: right;\n",
              "    }\n",
              "</style>\n",
              "<table border=\"1\" class=\"dataframe\">\n",
              "  <thead>\n",
              "    <tr style=\"text-align: right;\">\n",
              "      <th></th>\n",
              "      <th>Name</th>\n",
              "      <th>Sector</th>\n",
              "      <th>Price</th>\n",
              "      <th>EPS</th>\n",
              "    </tr>\n",
              "  </thead>\n",
              "  <tbody>\n",
              "    <tr>\n",
              "      <th>0</th>\n",
              "      <td>Apple Inc</td>\n",
              "      <td>Information Technology</td>\n",
              "      <td>170.12</td>\n",
              "      <td>9.20</td>\n",
              "    </tr>\n",
              "    <tr>\n",
              "      <th>1</th>\n",
              "      <td>Abbvie Inc</td>\n",
              "      <td>Health Care</td>\n",
              "      <td>93.29</td>\n",
              "      <td>5.31</td>\n",
              "    </tr>\n",
              "    <tr>\n",
              "      <th>2</th>\n",
              "      <td>Abbott Laboratories</td>\n",
              "      <td>Health Care</td>\n",
              "      <td>55.28</td>\n",
              "      <td>2.41</td>\n",
              "    </tr>\n",
              "    <tr>\n",
              "      <th>3</th>\n",
              "      <td>Accenture Plc</td>\n",
              "      <td>Information Technology</td>\n",
              "      <td>145.30</td>\n",
              "      <td>5.91</td>\n",
              "    </tr>\n",
              "    <tr>\n",
              "      <th>4</th>\n",
              "      <td>Allergan Plc</td>\n",
              "      <td>Health Care</td>\n",
              "      <td>171.81</td>\n",
              "      <td>15.42</td>\n",
              "    </tr>\n",
              "  </tbody>\n",
              "</table>\n",
              "</div>"
            ],
            "text/plain": [
              "                  Name                  Sector   Price    EPS\n",
              "0            Apple Inc  Information Technology  170.12   9.20\n",
              "1           Abbvie Inc             Health Care   93.29   5.31\n",
              "2  Abbott Laboratories             Health Care   55.28   2.41\n",
              "3        Accenture Plc  Information Technology  145.30   5.91\n",
              "4         Allergan Plc             Health Care  171.81  15.42"
            ]
          },
          "metadata": {
            "tags": []
          },
          "execution_count": 65
        }
      ]
    },
    {
      "cell_type": "code",
      "metadata": {
        "colab": {
          "base_uri": "https://localhost:8080/",
          "height": 294
        },
        "id": "Kt7fCOzq2cLL",
        "outputId": "7149cab0-73ba-4e36-8c87-df9a8c32d987"
      },
      "source": [
        "df.describe()"
      ],
      "execution_count": null,
      "outputs": [
        {
          "output_type": "execute_result",
          "data": {
            "text/html": [
              "<div>\n",
              "<style scoped>\n",
              "    .dataframe tbody tr th:only-of-type {\n",
              "        vertical-align: middle;\n",
              "    }\n",
              "\n",
              "    .dataframe tbody tr th {\n",
              "        vertical-align: top;\n",
              "    }\n",
              "\n",
              "    .dataframe thead th {\n",
              "        text-align: right;\n",
              "    }\n",
              "</style>\n",
              "<table border=\"1\" class=\"dataframe\">\n",
              "  <thead>\n",
              "    <tr style=\"text-align: right;\">\n",
              "      <th></th>\n",
              "      <th>Price</th>\n",
              "      <th>EPS</th>\n",
              "    </tr>\n",
              "  </thead>\n",
              "  <tbody>\n",
              "    <tr>\n",
              "      <th>count</th>\n",
              "      <td>102.000000</td>\n",
              "      <td>102.000000</td>\n",
              "    </tr>\n",
              "    <tr>\n",
              "      <th>mean</th>\n",
              "      <td>150.500686</td>\n",
              "      <td>6.485294</td>\n",
              "    </tr>\n",
              "    <tr>\n",
              "      <th>std</th>\n",
              "      <td>240.768463</td>\n",
              "      <td>8.577741</td>\n",
              "    </tr>\n",
              "    <tr>\n",
              "      <th>min</th>\n",
              "      <td>12.110000</td>\n",
              "      <td>0.020000</td>\n",
              "    </tr>\n",
              "    <tr>\n",
              "      <th>25%</th>\n",
              "      <td>54.335000</td>\n",
              "      <td>2.885000</td>\n",
              "    </tr>\n",
              "    <tr>\n",
              "      <th>50%</th>\n",
              "      <td>88.295000</td>\n",
              "      <td>4.405000</td>\n",
              "    </tr>\n",
              "    <tr>\n",
              "      <th>75%</th>\n",
              "      <td>151.032500</td>\n",
              "      <td>6.565000</td>\n",
              "    </tr>\n",
              "    <tr>\n",
              "      <th>max</th>\n",
              "      <td>1762.230000</td>\n",
              "      <td>74.450000</td>\n",
              "    </tr>\n",
              "  </tbody>\n",
              "</table>\n",
              "</div>"
            ],
            "text/plain": [
              "             Price         EPS\n",
              "count   102.000000  102.000000\n",
              "mean    150.500686    6.485294\n",
              "std     240.768463    8.577741\n",
              "min      12.110000    0.020000\n",
              "25%      54.335000    2.885000\n",
              "50%      88.295000    4.405000\n",
              "75%     151.032500    6.565000\n",
              "max    1762.230000   74.450000"
            ]
          },
          "metadata": {
            "tags": []
          },
          "execution_count": 66
        }
      ]
    },
    {
      "cell_type": "code",
      "metadata": {
        "colab": {
          "base_uri": "https://localhost:8080/"
        },
        "id": "Xzx1OfuR2hE7",
        "outputId": "3c4e6ec4-eb00-4678-c1eb-4bd1c8d83f11"
      },
      "source": [
        "df.info()"
      ],
      "execution_count": null,
      "outputs": [
        {
          "output_type": "stream",
          "text": [
            "<class 'pandas.core.frame.DataFrame'>\n",
            "RangeIndex: 102 entries, 0 to 101\n",
            "Data columns (total 4 columns):\n",
            " #   Column  Non-Null Count  Dtype  \n",
            "---  ------  --------------  -----  \n",
            " 0   Name    102 non-null    object \n",
            " 1   Sector  102 non-null    object \n",
            " 2   Price   102 non-null    float64\n",
            " 3   EPS     102 non-null    float64\n",
            "dtypes: float64(2), object(2)\n",
            "memory usage: 3.3+ KB\n"
          ],
          "name": "stdout"
        }
      ]
    },
    {
      "cell_type": "markdown",
      "metadata": {
        "id": "3wGHcTnuBrjZ"
      },
      "source": [
        "#### Data Visualizations\n",
        "Within the S&P 100, companies are associated with specific sectors. For example, the largest sector is made up of companies associated with the consumer discretionary sector. These include companies like Amazon.com and Nike. The next largest sectors are information technology, healthcare, and financial sectors."
      ]
    },
    {
      "cell_type": "code",
      "metadata": {
        "colab": {
          "base_uri": "https://localhost:8080/",
          "height": 575
        },
        "id": "4-do5aGu2sQj",
        "outputId": "ad5c98a4-5cad-48fd-b440-024316f66d43"
      },
      "source": [
        "pie1 = df['Sector'].value_counts()\n",
        "perc1 = pie1.values\n",
        "label1 = pie1.index\n",
        "fig, ax = plt.subplots(figsize=[10,10])\n",
        "ax.pie(perc1, explode=[0.05,0,0,0,0,0,0,0,0,0,0],autopct=\"%0.1f\", labels=label1)\n",
        "plt.show()"
      ],
      "execution_count": null,
      "outputs": [
        {
          "output_type": "display_data",
          "data": {
            "image/png": "[encoded data removed]",
            "text/plain": [
              "<Figure size 720x720 with 1 Axes>"
            ]
          },
          "metadata": {
            "tags": []
          }
        }
      ]
    },
    {
      "cell_type": "markdown",
      "metadata": {
        "id": "21B-AExSC1-K"
      },
      "source": [
        "For each company, we have data on its name, sector, stock price, and earnings per share, abbreviated EPS. The earnings per share is the profit for each share of stock."
      ]
    },
    {
      "cell_type": "code",
      "metadata": {
        "id": "sNlhsCEv0vFj"
      },
      "source": [
        "#four lists in our dataset\n",
        "names = list(df.Name)\n",
        "sectors = list(df.Sector)\n",
        "prices = list(df.Price)\n",
        "earnings = list(df.EPS)"
      ],
      "execution_count": null,
      "outputs": []
    },
    {
      "cell_type": "markdown",
      "metadata": {
        "id": "86l9Hd18ONRZ"
      },
      "source": [
        "## Task-1"
      ]
    },
    {
      "cell_type": "markdown",
      "metadata": {
        "id": "iZPMmhQnC86s"
      },
      "source": [
        "### Objective\n",
        "The objective for the first part of our case study is to analyze growth expectations of companies within the S&P 100 by calculating the price to earnings ratio of each company."
      ]
    },
    {
      "cell_type": "markdown",
      "metadata": {
        "id": "7ciSy5s_NkGZ"
      },
      "source": [
        "Firstly, we are converting the prices and earnings lists to arrays, prices_array and earnings_array, respectively."
      ]
    },
    {
      "cell_type": "code",
      "metadata": {
        "id": "caKbPMCU21q_"
      },
      "source": [
        "#converting lists to arrays\n",
        "prices_array = np.array(prices) \n",
        "earnings_array = np.array(earnings)"
      ],
      "execution_count": null,
      "outputs": []
    },
    {
      "cell_type": "markdown",
      "metadata": {
        "id": "Oi5UZcwKDHgF"
      },
      "source": [
        "### What is **Price to Earnings (PE) Ratio** ?\n",
        "Price to Earnings Ratio is used to measure growth expectations of stocks. It is the dollar amount we can expect to invest in a company in order to receive one dollar of the company's earnings. Mathematically, it is the price per stock share divided by its earnings per share. \n",
        "\n",
        "A higher P/E ratio is generally associated with higher growth expectations."
      ]
    },
    {
      "cell_type": "code",
      "metadata": {
        "id": "2coIXe4G3DQo"
      },
      "source": [
        "pe = prices_array/ earnings_array #calculating price to earnings ratio (pe)"
      ],
      "execution_count": null,
      "outputs": []
    },
    {
      "cell_type": "code",
      "metadata": {
        "colab": {
          "base_uri": "https://localhost:8080/"
        },
        "id": "DajIHwR33UBK",
        "outputId": "094be29c-36e5-424a-9970-ea0033b07dac"
      },
      "source": [
        "pe"
      ],
      "execution_count": null,
      "outputs": [
        {
          "output_type": "execute_result",
          "data": {
            "text/plain": [
              "array([  18.49130435,   17.56873823,   22.93775934,   24.58544839,\n",
              "         11.14202335,   23.70517928,   14.8011782 ,   13.42845787,\n",
              "        285.99492386,   17.99233716,   27.18358974,   15.25714286,\n",
              "         14.44742937,   15.19596542,   21.99767981,   20.43243243,\n",
              "         28.81875994,   13.8477842 ,   24.75135135,   16.075     ,\n",
              "        215.0310559 ,   25.14285714,   17.88613861,   11.64379947,\n",
              "       2494.5       ,   29.41924399,   16.76497696,   12.29071804,\n",
              "         32.16806723,   24.02313625,   18.07368421,   19.91235955,\n",
              "         19.43169399,   23.31007752,   16.66129032,    7.20833333,\n",
              "         34.51637765,   18.2829555 ,   15.84375   ,   16.21875   ,\n",
              "         19.73187686,   14.44354839,    7.47703549,    7.22778675,\n",
              "         34.09708738,   34.6196853 ,   12.3984375 ,   56.94520548,\n",
              "         24.44396552,   21.30071942,   11.08345534,   14.11320755,\n",
              "         19.40336134,   14.20461095,   22.63764045,   26.21538462,\n",
              "         24.12698413,   20.28606357,   24.60141509,   18.76267281,\n",
              "         34.78654292,   26.0953125 ,   20.72682927,   16.95522388,\n",
              "          9.97115385,   25.97653631,   21.04746835,   21.37251356,\n",
              "         13.81491003,   13.5900277 ,   24.40532544,   23.34332834,\n",
              "         25.30212766,   19.20392157,  194.77142857,   23.66997985,\n",
              "         22.55859375,   14.152     ,   22.19346734,   23.01781737,\n",
              "         54.67857143,   17.67989418,   24.36772487,   27.45410628,\n",
              "         47.69767442,   18.58909091,   26.32231405,   11.80546075,\n",
              "         11.71805274,   14.62376238,   24.28325123,   21.84895833,\n",
              "         20.4204947 ,   18.92976589,   15.39465875,   17.68126888,\n",
              "         31.68678161,   12.22666667,   13.7745098 ,   13.04830918,\n",
              "         22.03669725,   22.55898876])"
            ]
          },
          "metadata": {
            "tags": []
          },
          "execution_count": 72
        }
      ]
    },
    {
      "cell_type": "markdown",
      "metadata": {
        "id": "-CWryU7kDZOd"
      },
      "source": [
        "## Task-2\n",
        "We had a closer look to the dataset in the last task.\n",
        "\n",
        "Now that we have successfully calculated the price to earnings ratios of all companies within the S&P 100, let's look at sector specific trends."
      ]
    },
    {
      "cell_type": "code",
      "metadata": {
        "id": "s_eJo4027dvq"
      },
      "source": [
        "#converting lists to arrays\n",
        "names = np.array(names) \n",
        "sectors = np.array(sectors)\n",
        "pe = np.array(pe)"
      ],
      "execution_count": null,
      "outputs": []
    },
    {
      "cell_type": "markdown",
      "metadata": {
        "id": "uhZBiTAjDloi"
      },
      "source": [
        "### Objective\n",
        "First, we will need to subset sector-specific datasets from the larger S&P dataset\n",
        "\n",
        "So, we are subsetting the Consumer Discretionary sector companies from the dataset."
      ]
    },
    {
      "cell_type": "code",
      "metadata": {
        "id": "p-YEIiz973Yi"
      },
      "source": [
        "#Filtering arrays\n",
        "boolean_array = (sectors == 'Consumer Discretionary') #subsetting Consumer Discretionary sector companies"
      ],
      "execution_count": null,
      "outputs": []
    },
    {
      "cell_type": "code",
      "metadata": {
        "id": "rJORnq7n8DjE"
      },
      "source": [
        "cd_names = names[boolean_array]  #subset sector specific data"
      ],
      "execution_count": null,
      "outputs": []
    },
    {
      "cell_type": "code",
      "metadata": {
        "colab": {
          "base_uri": "https://localhost:8080/"
        },
        "id": "cOeUqP0y8PNS",
        "outputId": "ea0715b5-9f7a-4da1-e296-493e1a203b23"
      },
      "source": [
        "cd_names #displaying sector names"
      ],
      "execution_count": null,
      "outputs": [
        {
          "output_type": "execute_result",
          "data": {
            "text/plain": [
              "array(['Amazon.Com Inc.', 'Charter Communicatio', 'Comcast Corp A',\n",
              "       'Walt Disney Company', 'Ford Motor Company',\n",
              "       '21st Centry Fox Class B', '21st Centry Fox Class A',\n",
              "       'General Motors Company', 'Home Depot', \"Lowe's Companies\",\n",
              "       \"McDonald's Corp\", 'Nike Inc', 'Priceline Group', 'Starbucks Corp',\n",
              "       'Target Corp', 'Time Warner Inc'], dtype='<U31')"
            ]
          },
          "metadata": {
            "tags": []
          },
          "execution_count": 76
        }
      ]
    },
    {
      "cell_type": "code",
      "metadata": {
        "colab": {
          "base_uri": "https://localhost:8080/"
        },
        "id": "ErWFnTK88Yip",
        "outputId": "9b4cae76-1804-4869-b522-9064c65f4717"
      },
      "source": [
        "cd_pe = pe[boolean_array] #subset sector specific data\n",
        "cd_pe #displaying sector pe"
      ],
      "execution_count": null,
      "outputs": [
        {
          "output_type": "execute_result",
          "data": {
            "text/plain": [
              "array([285.99492386, 215.0310559 ,  17.88613861,  18.07368421,\n",
              "         7.20833333,  15.84375   ,  16.21875   ,   7.22778675,\n",
              "        24.44396552,  18.76267281,  26.0953125 ,  25.30212766,\n",
              "        23.66997985,  27.45410628,  11.71805274,  14.62376238])"
            ]
          },
          "metadata": {
            "tags": []
          },
          "execution_count": 77
        }
      ]
    },
    {
      "cell_type": "code",
      "metadata": {
        "colab": {
          "base_uri": "https://localhost:8080/"
        },
        "id": "sM5Lctpx8lBx",
        "outputId": "2b5b7e61-d714-4d77-a8cf-3cc8f788bc61"
      },
      "source": [
        "boolean_array1 = (sectors == 'Financials') #create boolean array\n",
        "f_names = names[boolean_array1] #subset sector specific data\n",
        "f_pe = pe[boolean_array1] #subset sector specific data\n",
        "print(f_names) #displaying sector names\n",
        "print(f_pe) #displaying sector pe"
      ],
      "execution_count": null,
      "outputs": [
        {
          "output_type": "stream",
          "text": [
            "['American International Group' 'Allstate Corp' 'American Express Company'\n",
            " 'Bank of America Corp' 'Bank of New York Mellon Corp' 'Blackrock'\n",
            " 'Berkshire Hath Hld B' 'Citigroup Inc' 'Capital One Financial Corp'\n",
            " 'Goldman Sachs Group' 'JP Morgan Chase & Co' 'Metlife Inc'\n",
            " 'Morgan Stanley' 'U.S. Bancorp' 'Wells Fargo & Company']\n",
            "[23.70517928 14.8011782  17.99233716 15.25714286 15.19596542 21.99767981\n",
            " 28.81875994 13.8477842  11.64379947 12.3984375  14.20461095  9.97115385\n",
            " 13.5900277  15.39465875 13.04830918]\n"
          ],
          "name": "stdout"
        }
      ]
    },
    {
      "cell_type": "code",
      "metadata": {
        "colab": {
          "base_uri": "https://localhost:8080/"
        },
        "id": "vCGMVn6G829l",
        "outputId": "65e87cf5-21b3-4e86-885d-138af42a48b5"
      },
      "source": [
        "#calcualting mean, median, standard deviation of P/E ratios for Consumer Discretionary sector\n",
        "cd_pe_mean = np.mean(cd_pe) \n",
        "cd_pe_median = np.median(cd_pe)\n",
        "cd_pe_std = np.std(cd_pe)\n",
        "print(\"The mean, median and standard deviation of P/E ratios for Consumer Discretionary sector - \")\n",
        "print(\"Mean - \",cd_pe_mean)\n",
        "print(\"Median - \", cd_pe_median)\n",
        "print(\"Std - \", cd_pe_std)"
      ],
      "execution_count": null,
      "outputs": [
        {
          "output_type": "stream",
          "text": [
            "The mean, median and standard deviation of P/E ratios for Consumer Discretionary sector - \n",
            "Mean -  47.22215015024565\n",
            "Median -  18.418178510793112\n",
            "Std -  78.0837950188523\n"
          ],
          "name": "stdout"
        }
      ]
    },
    {
      "cell_type": "code",
      "metadata": {
        "colab": {
          "base_uri": "https://localhost:8080/"
        },
        "id": "qATCMgCR9Y4y",
        "outputId": "549b9855-4999-4452-cf06-81e8b4184ca9"
      },
      "source": [
        "#calculating mean, median, standard deviation of P/E ratios for Financials sector\n",
        "f_pe_mean = np.mean(f_pe)\n",
        "f_pe_median = np.median(f_pe)\n",
        "f_pe_std = np.std(f_pe)\n",
        "print(\"The mean, median and standard deviation of P/E ratios for Financial sector - \")\n",
        "print(\"Mean - \",f_pe_mean)\n",
        "print(\"Median - \", f_pe_median)\n",
        "print(\"Std - \", f_pe_std)"
      ],
      "execution_count": null,
      "outputs": [
        {
          "output_type": "stream",
          "text": [
            "The mean, median and standard deviation of P/E ratios for Financial sector - \n",
            "Mean -  16.124468285319303\n",
            "Median -  14.80117820324006\n",
            "Std -  4.8790171187681155\n"
          ],
          "name": "stdout"
        }
      ]
    },
    {
      "cell_type": "markdown",
      "metadata": {
        "id": "cooYUYktEFFR"
      },
      "source": [
        "## Task-3\n",
        "We will be visualizing P/E ratios of Consumer Discretionary and Financials sector comapnies in this task."
      ]
    },
    {
      "cell_type": "code",
      "metadata": {
        "colab": {
          "base_uri": "https://localhost:8080/",
          "height": 279
        },
        "id": "ralbOXxA9hrz",
        "outputId": "e6feb603-f440-4b13-9555-efaf3916fc40"
      },
      "source": [
        "#Plotting a scatterplot\n",
        "plt.scatter(range(0,16), cd_pe, color='red', label='CD') #consumer discretionary sector companies\n",
        "plt.scatter(range(0,15), f_pe, color='green', label='F') # financials sector companies\n",
        "\n",
        "plt.legend()\n",
        "plt.xlabel('Company ID')\n",
        "plt.ylabel('P/E Ratio')\n",
        "plt.show()"
      ],
      "execution_count": null,
      "outputs": [
        {
          "output_type": "display_data",
          "data": {
            "image/png": "[encoded data removed]",
            "text/plain": [
              "<Figure size 432x288 with 1 Axes>"
            ]
          },
          "metadata": {
            "tags": [],
            "needs_background": "light"
          }
        }
      ]
    },
    {
      "cell_type": "markdown",
      "metadata": {
        "id": "FnZCJRGEENmf"
      },
      "source": [
        "### Objective\n",
        "We notice that there is a higher pe ratio in some companies than others.\n",
        "\n",
        "So, we need to identify the outliers in our dataset."
      ]
    },
    {
      "cell_type": "code",
      "metadata": {
        "colab": {
          "base_uri": "https://localhost:8080/",
          "height": 265
        },
        "id": "Aigm6lg1-U-j",
        "outputId": "7521bf08-5670-48a4-96c8-813ea39e2f61"
      },
      "source": [
        "plt.hist(cd_pe, bins=6) # plotting the histogram of cd_pe\n",
        "plt.show()"
      ],
      "execution_count": null,
      "outputs": [
        {
          "output_type": "display_data",
          "data": {
            "image/png": "[encoded data removed]",
            "text/plain": [
              "<Figure size 432x288 with 1 Axes>"
            ]
          },
          "metadata": {
            "tags": [],
            "needs_background": "light"
          }
        }
      ]
    },
    {
      "cell_type": "markdown",
      "metadata": {
        "id": "R9zWM1BzEWVb"
      },
      "source": [
        "### Identify the outliers\n",
        "Based on the histogram, we'll look to identify the P/E ratio outlier. \n",
        "\n",
        "Based on this PE ratio, we can subset this company's specific data. \n",
        "\n",
        "The final step in our case study is to identify the name of the companies that is associated with an abnormally high P/E ratio within the Consumer Discretionary sector."
      ]
    },
    {
      "cell_type": "code",
      "metadata": {
        "colab": {
          "base_uri": "https://localhost:8080/"
        },
        "id": "Wi1YgYI9-xk-",
        "outputId": "08b3dca9-7d65-4041-8bc6-cf443da247f5"
      },
      "source": [
        "outlier_pe = cd_pe[cd_pe > 180] #identify P/E ratio within cd_pe that is greater than 180\n",
        "outlier_name = cd_names[cd_pe > 180] #identifying the company with the P/E ratio > 180\n",
        "\n",
        "#displaying outliers\n",
        "print(\"In 2017, \" + str(outlier_name[0]) + \" and \" + str(outlier_name[1]) + \" had an abnormally high PE ratio of \" + str(outlier_pe[0]) + \" and \" + str(outlier_pe[1])+ \" respectively.\")"
      ],
      "execution_count": null,
      "outputs": [
        {
          "output_type": "stream",
          "text": [
            "In 2017, Amazon.Com Inc. and Charter Communicatio had an abnormally high PE ratio of 285.994923857868 and 215.03105590062108 respectively.\n"
          ],
          "name": "stdout"
        }
      ]
    }
  ]
}